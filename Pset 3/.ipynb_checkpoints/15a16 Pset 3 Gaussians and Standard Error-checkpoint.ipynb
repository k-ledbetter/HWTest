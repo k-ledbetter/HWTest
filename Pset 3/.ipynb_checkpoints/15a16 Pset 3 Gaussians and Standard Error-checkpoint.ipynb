{
 "cells": [
  {
   "cell_type": "markdown",
   "metadata": {
    "id": "LOls59CJxIrQ"
   },
   "source": [
    "# Introduction + Additional Resources\n",
    "\n",
    "This is a big notebook, but it's really just a lot of reading and a little bit of coding. Make sure you read carefully and answer all the questions! (As in lab, we've marked each question in <font color = 'red'>red</font>.).\n",
    "\n",
    "**If you have any questions, feel free to reach out via email (kledbetter@g.harvard.edu, tmilbourne@g.harvard.edu), or stop by our lab homework office hours (Wednesday, 10-11am and 3-5pm in SC 302).**\n",
    "\n",
    "#Gaussian Distributions\n",
    "\n",
    "If you've taken a statistics class (or a class graded on a curve), you may have heard about Gaussian (also called \"normal\") distributions. Gaussians show up a lot in everyday life (more on this later), so it's worth spending some time to learn about them.\n",
    "\n",
    "To visualize Gaussian distributions, let's look at some actual data. The data can be found [here](https://drive.google.com/drive/folders/1PYd3VoQBRU1SU553YZZzJ1o7vmz6ARlc?usp=sharing) and consists of two files. Download and open each file to see what is inside: a set of sound pressure measurements (measurements of loudness, more or less). One was taken in Tim and Kathryn's quiet office (`office_sounds.csv`), the other on the loud Science Center Plaza (`plaza_sounds.csv`). We want to know *how much* louder the plaza is than the office. How can we do that from this data?\n",
    "\n",
    "(These measurements were taken with the PhyPhox app on a smartphone. You could take your own data as well and compare your environment to the the office and the plaza, though this is optional.) "
   ]
  },
  {
   "cell_type": "markdown",
   "metadata": {
    "id": "erMpINsn1M9y"
   },
   "source": [
    "#Exercise 1: Loading and Plotting Data\n",
    "\n",
    "\n",
    "First, we want to get the data into Colab. <font color='red'>Download the data to your computer, then run the cell below and upload the files using the Browse button that pops up. You will then be able to open these files in this Python environment.</font>"
   ]
  },
  {
   "cell_type": "code",
   "execution_count": 1,
   "metadata": {
    "id": "mVL0c560vsMN"
   },
   "outputs": [],
   "source": [
    "#numpy for doing math\n",
    "import numpy as np\n",
    "#matplotlib for plotting\n",
    "import matplotlib.pyplot as plt\n",
    "#we need the following package to allow colab to access files on our computer\n",
    "#from google.colab import files\n",
    "#we'll need to use scipy to do some averaging later on\n",
    "from scipy import stats\n",
    "#upload the file to colab so python can read from it\n",
    "#uploaded = files.upload()"
   ]
  },
  {
   "cell_type": "markdown",
   "metadata": {
    "id": "08qQsYa_WO-1"
   },
   "source": [
    "Next, we need to read the contents of the file into Numpy arrays so that we can manipulate and plot the data. Run the cell below. The data has 2 columns and many rows. Note how that translates into the shape of the array."
   ]
  },
  {
   "cell_type": "code",
   "execution_count": 2,
   "metadata": {
    "id": "9q4A_uGSyNKF"
   },
   "outputs": [
    {
     "name": "stdout",
     "output_type": "stream",
     "text": [
      "(542, 2)\n",
      "(407, 2)\n"
     ]
    }
   ],
   "source": [
    "#read the file\n",
    "#you will have to change the filename to what you named the file\n",
    "#first is the file name, which you defined on the lab computer\n",
    "#second is the skiprows=1, to tell python to skip the column names. These strings would confuse the array, which only wants numbers\n",
    "#third is delimiter=',' to tell python that commas separate our columns. We can double check what this is by opening the data as a plain text \n",
    "file_office = np.loadtxt('office_sound.csv', skiprows=7, delimiter=',')\n",
    "file_plaza = np.loadtxt('plaza_sound.csv', skiprows=7, delimiter=',')\n",
    "\n",
    "print(file_office.shape)\n",
    "print(file_plaza.shape)"
   ]
  },
  {
   "cell_type": "markdown",
   "metadata": {
    "id": "3eXfarb8W8vD"
   },
   "source": [
    "We don't really care about the timestamps of the data; we are wondering how much louder on average the plaza is than the office. We'll cut off each set of measurements at 300, so that we have an equal amount of data in each location. The cell below truncates the data to just what we are interested in. If you haven't seen array indexing before, take a brief detour to the [Python boot camp](https://colab.research.google.com/drive/1Dsv_mQOqXg_m3kCWLgvnC_WpUoZiOHiJ?usp=sharing#scrollTo=LFga61GIe7w-) to understand the commands below. Note how the shape of the array has changed. "
   ]
  },
  {
   "cell_type": "code",
   "execution_count": 3,
   "metadata": {
    "id": "H4wGskM7gmoc"
   },
   "outputs": [
    {
     "name": "stdout",
     "output_type": "stream",
     "text": [
      "(407, 2)\n",
      "(300,)\n"
     ]
    }
   ],
   "source": [
    "print(file_plaza.shape)\n",
    "data_office=file_office[:300,1]\n",
    "data_plaza=file_plaza[:300,1]\n",
    "print(data_plaza.shape)"
   ]
  },
  {
   "cell_type": "markdown",
   "metadata": {
    "id": "3J6laRbzYJfo"
   },
   "source": [
    "Let's visualize the data! Just printing it out isn't going to be very useful (you can try that below). Instead, we'll make a *histogram* of the measurements to see how they are distributed. As written, the code makes histograms that split each set of measurements into 10 bins.\n",
    "\n",
    "Below, we've written code to plot a histogram of `data_office`. <font color = 'red'>Modify this code to also plot a histogram of `data_plaza` so you can compare the data. Also try changing the number of bins to larger and smaller numbers. How many bins do you want for a useful, informative graph?</font>"
   ]
  },
  {
   "cell_type": "code",
   "execution_count": 4,
   "metadata": {
    "id": "E7TEiELGybJr"
   },
   "outputs": [
    {
     "data": {
      "image/png": "[encoded data removed]",
      "text/plain": [
       "<Figure size 432x288 with 1 Axes>"
      ]
     },
     "metadata": {
      "needs_background": "light"
     },
     "output_type": "display_data"
    }
   ],
   "source": [
    "#edit the below code!\n",
    "#make a histogram of the two datasets\n",
    "\n",
    "nbins=10\n",
    "\n",
    "fig,ax=plt.subplots()\n",
    "ax.hist(data_office,nbins,alpha=0.5,label='office') #alpha command makes the bars partially transparent in case they overlap\n",
    "\n",
    "... #add a histogram of the plaza data here!\n",
    "\n",
    "ax.set_xlabel('Sound pressure level (dB)')\n",
    "ax.set_ylabel('measurements per bin')\n",
    "ax.legend();"
   ]
  },
  {
   "cell_type": "markdown",
   "metadata": {
    "id": "-7vOcXwJZBj1"
   },
   "source": [
    "If I were to ask you how loud the office is, you probably wouldn't want to give me all 300 numbers that you measured. For these approximately symmetrical distributions, I would have a pretty good sense of how loud the office was if you gave me a single number: the *sample mean* $\\bar{x}$ of the distribution:\n",
    "$$\\bar{x}=\\frac{\\sum_{i=1}^N x_i}{N}$$\n",
    "where $N$ is the number of samples and $x_i$ are individual samples. (You can calculate the mean by hand, but this is tedious: instead, Numpy can do this using `np.mean()`.)\n",
    "\n",
    "But I can also get some more information from the distribution. The plaza sound levels are a little more spread out: the noise levels there are more varied over time than those in the office. So we should also report the width of the distribution, which is characterized by the *standard deviation* $\\sigma$:\n",
    "$$\\sigma=\\sqrt{\\frac{\\sum_{i=1}^N (x_i-\\bar{x})^2}{N}}.$$\n",
    "Looks complicated, but Numpy does it in a snap with ```np.std()```. We have to keep in mind that these means and standard deviations are only an estimate: if I took more data, I might get a slightly different answer. We'll get into that later on. "
   ]
  },
  {
   "cell_type": "code",
   "execution_count": null,
   "metadata": {
    "id": "f1AXSmvCyigK"
   },
   "outputs": [],
   "source": [
    "#here we calculate the mean and stadard deviation of each set of data\n",
    "mean_office=np.mean(data_office)\n",
    "mean_plaza=np.mean(data_plaza)\n",
    "std_office=np.std(data_office)\n",
    "std_plaza=np.std(data_plaza)"
   ]
  },
  {
   "cell_type": "markdown",
   "metadata": {
    "id": "_bEDrD4qbLWu"
   },
   "source": [
    "## More About Gaussians\n",
    "\n",
    "If you take many measurements of a random variable (here, the sound pressure), the histogram of your measurements represents the underlying probability distribution associated with the quantity of interest. In cases where this quantity is the sum of *several* random variables (here, people walking and talking, cars passing, the machinery of the Science Center, the HVAC system, birds singing, etc.), this will be a Gaussian distribution due to the [Central Limit Theorem](https://en.wikipedia.org/wiki/Central_limit_theorem). A Gaussian is characterized by its mean $\\mu$ and its standard deviation $\\sigma$:\n",
    "\n",
    "$$G(x,\\mu,\\sigma) = \\frac{1}{\\sqrt{2\\pi\\sigma^2}} \\exp{\\left(-\\frac{(x - \\mu)^2}{2{\\sigma}^2}\\right)}$$\n",
    "\n",
    "The Gaussian distribution is plotted below. Note that 68% of the area under the curve falls within 1$\\sigma$ of the mean, 95% of the area under the curve is within 2$\\sigma$ of the mean, and 99.7% of the area under the curve is within 3$\\sigma$ of the mean. These areas under the the curve correspond to probabilities: For instance, if you measure a Gaussian random variable $x$, there is a 95% chance that $|x- \\mu| \\leq 2\\sigma$, and thus a 5% chance that $|x- \\mu| > 2\\sigma$.\n",
    "\n",
    "<img src=\"https://drive.google.com/uc?export=view&id=1GZX_lA5tWM8wVHb_xjgskZ1cI-sGo__E\" alt=\"partial derivatives\" width=\"800\"/>"
   ]
  },
  {
   "cell_type": "markdown",
   "metadata": {
    "id": "R9Bmbu7tb6_X"
   },
   "source": [
    "#Exercise 2: Comparing Your Distributions to Theory\n",
    "\n",
    "Let's see how Gaussian our measurements are by comparing the histogram to a Gaussian with the same mean and standard deviation we calculated. <font color = 'red'>Fill in the code below to plot Gaussians on a new set of axes within the same plot. You'll want to define an array of x values, and then calculate $G(x, \\mu, \\sigma)$ for each value of x using the mean and standard deviation for each data set.</font>"
   ]
  },
  {
   "cell_type": "code",
   "execution_count": null,
   "metadata": {
    "id": "6sGKlAfKg7lz"
   },
   "outputs": [],
   "source": [
    "#plot the historgrams of each dataset\n",
    "nbins = 40\n",
    "fig,ax=plt.subplots()\n",
    "ax.hist(data_office,nbins,alpha=0.5,label='office')\n",
    "ax.hist(data_plaza,nbins,alpha=0.5,label='plaza')\n",
    "ax.set_xlabel('Sound pressure level (dB)')\n",
    "ax.set_ylabel('measurements per bin')\n",
    "ax.legend()\n",
    "\n",
    "ax2=ax.twinx() # this creates a new set of axes that share an x-axis with our first axes.\n",
    "ax.plot(...)#plot the expected Gaussians for the office and plaza data here!\n",
    "ax2.set_ylabel('distribution amplitude');"
   ]
  },
  {
   "cell_type": "markdown",
   "metadata": {
    "id": "VnhG6HjpcxDR"
   },
   "source": [
    "Now to answer our original question: how much louder is the plaza than the office? We want to look at the difference between the two measurements. \n",
    "\n",
    "First, let's take the difference of the raw data, pointwise, and plot the distribution. <font color = 'red'>How wide do you expect the distribution of differences to be? Wider than the individual distributions? Narrower?</font>\n",
    "\n",
    "(Your prediction here).\n",
    "\n",
    "<font color = 'red'>Test it out below. Calculate the pointwise difference between the office and plaza data, and make a histogram of the difference. Then, calculate the mean and standard deviations of this difference.</font>"
   ]
  },
  {
   "cell_type": "code",
   "execution_count": null,
   "metadata": {
    "id": "t1m1gLphhLrs"
   },
   "outputs": [],
   "source": [
    "data_difference = ... #add code here to calculate the difference between the plaza and the office\n",
    "mean_difference = ... #calculate the mean difference here\n",
    "std_difference = ... #and the standard deviation\n",
    "\n",
    "fig,ax=plt.subplots()\n",
    "ax.hist(data_office,nbins,alpha=0.5,label='office')\n",
    "ax.hist(data_plaza,nbins,alpha=0.5,label='plaza')\n",
    "ax.hist(...) #plot a histogram of the differences\n",
    "ax.set_xlabel('Sound pressure level (dB)')\n",
    "ax.set_ylabel('measurements per bin')\n",
    "ax.legend()\n",
    "\n",
    "ax2=ax.twinx()\n",
    "ax2.plot(x,(1/np.sqrt(2*np.pi*std_office**2))*np.exp(-0.5*(x-mean_office)**2/std_office**2))\n",
    "ax2.plot(x,(1/np.sqrt(2*np.pi*std_plaza**2))*np.exp(-0.5*(x-mean_plaza)**2/std_plaza**2))\n",
    "ax2.plot(...) #plot the corresponding Gaussian distribution\n",
    "ax2.set_ylabel('distribution amplitude');\n"
   ]
  },
  {
   "cell_type": "markdown",
   "metadata": {
    "id": "IHVKZKr9dppD"
   },
   "source": [
    "Let's see whether we could have predicted the position and distribution of the pointwise difference if I only knew the means and standard deviations of the original two distributions (and didn't have all 300 data points of each). \n",
    "\n",
    "In lab 2, you determined that the uncertainty of the difference of two variables with uncertainties $\\delta A$ and $\\delta B$ was $\\sqrt{\\delta A^2+\\delta B^2}$. Similarly, when we take the difference of two Gaussians, the resulting standard deviation is $\\sigma_{A-B}=\\sqrt{\\sigma_{A}^2+\\sigma_{B}^2}$. \n",
    "<font color = 'red'>Using the above information, plot the expected distribution of $A-B$ derived from the calculated means and standard deviations of the two original measurements. How does it compare with the distribution calculated directly from the difference data? </font>"
   ]
  },
  {
   "cell_type": "code",
   "execution_count": null,
   "metadata": {
    "id": "CzeGecxNuMHl"
   },
   "outputs": [],
   "source": [
    "expected_mean_difference = ... #calculate the difference between the two means\n",
    "expected_std_difference= ... #calculate the uncertainty associated with this difference\n",
    "\n",
    "fig,ax=plt.subplots()\n",
    "ax.hist(data_office,nbins,alpha=0.5,label='office')\n",
    "ax.hist(data_plaza,nbins,alpha=0.5,label='plaza')\n",
    "ax.hist(data_difference,nbins,alpha=0.5,label='difference')\n",
    "ax.set_xlabel('Sound pressure level (dB)')\n",
    "ax.set_ylabel('measurements per bin')\n",
    "ax.legend()\n",
    "\n",
    "ax2=ax.twinx()\n",
    "ax2.plot(x,(1/np.sqrt(2*np.pi*std_office**2))*np.exp(-0.5*(x-mean_office)**2/std_office**2))\n",
    "ax2.plot(x,(1/np.sqrt(2*np.pi*std_plaza**2))*np.exp(-0.5*(x-mean_plaza)**2/std_plaza**2))\n",
    "ax2.plot(x,(1/np.sqrt(2*np.pi*std_difference**2))*np.exp(-0.5*(x-mean_difference)**2/std_difference**2)) \n",
    "ax2.plot(...) #your code here - plot a Gaussian based on the mean and standard deviation of the original two measurements.\n",
    "ax2.set_ylabel('distribution amplitude');\n",
    "\n"
   ]
  },
  {
   "cell_type": "markdown",
   "metadata": {
    "id": "UWbn1ZdHi5lW"
   },
   "source": [
    "# Exercise 3: Standard Error of the Mean\n",
    "\n",
    "Standard deviation tells us how wide our distribution is. If we take more and more measurements, the width of the distribution won't change much. So why take more measurements? As we mentioned above, $\\bar{x}$ is only an estimate of the true mean of the underlying distribution. When we take more measurements, we are increasingly sure that our *sample mean* ($\\bar{x}$, the mean of the measurements) is close to the *population mean* ($\\mu$, the mean of the underlying distribution, which we generally can't directly measure). Let's see this in action with one of the histograms from above. \n",
    "\n",
    "The Standard Error of the Mean (S.E.) is defined as:\n",
    "\n",
    "$$S.E.=\\frac{\\sigma}{\\sqrt{N}},$$\n",
    "\n",
    "where $N$ is the number of samples and $\\sigma$ is the standard deviation."
   ]
  },
  {
   "cell_type": "markdown",
   "metadata": {
    "id": "UVX4coIPeAtk"
   },
   "source": [
    "Let's practice calculating the standard error of the mean. Previously, we calculated the mean pressure level in the office and in the plaza. <font color = 'red'>Below, calculate the standard error for each mean</font>. (Hint: It may be helpful to use `len()` or `np.shape` to get the size of your data arrays.)"
   ]
  },
  {
   "cell_type": "code",
   "execution_count": null,
   "metadata": {
    "id": "_h3YCGqFeM_0"
   },
   "outputs": [],
   "source": [
    "... #calculate the standard error in the mean for the office and plaza data"
   ]
  },
  {
   "cell_type": "markdown",
   "metadata": {
    "id": "VrRy_eUheO1i"
   },
   "source": [
    "Notice that the S.E. should decrease as we take more data. However, we expect the standard deviation should stay roughly constant if we take more data. Let's check this. Below, we've plotted a historgram of the first 25 data points (`data_office[:25]`), the first 100 data points (`data_office[:100]`, and the first 200 data points (`data_office[:200]`) in `data_office`. Visually the width of each distribution does not seem to change.\n",
    "\n",
    "<font color = 'red'>Add a bit of code to the cell below to calculate the standard deviation for each subset of data to verify this.</font>"
   ]
  },
  {
   "cell_type": "code",
   "execution_count": null,
   "metadata": {
    "id": "noUb3TVujML2"
   },
   "outputs": [],
   "source": [
    "fig,ax=plt.subplots()\n",
    "_,bins,_=ax.hist(data_office[:200],30,alpha=0.5) #histogram of 200 points\n",
    "ax.hist(data_office[:100],bins,alpha=0.5) #histogram of the first 100 points\n",
    "ax.hist(data_office[:25],bins,alpha=0.5) #histogram of the first 25 points\n",
    "\n",
    "x=np.linspace(-50,-40,200)\n",
    "ax2=ax.twinx()\n",
    "ax2.plot(x,(1/np.sqrt(2*np.pi*std_office**2))*np.exp(-0.5*(x-mean_office)**2/std_office**2))\n",
    "\n",
    "... #Calculate the standard deviation for each subset of the data here!\n",
    "... #and print the standard deviations out to compare them"
   ]
  },
  {
   "cell_type": "markdown",
   "metadata": {
    "id": "tSfshgBrg5kg"
   },
   "source": [
    "The below code will now calculate the mean, and the standard error in the mean for each subset of the data. Notice how the standard error decreases as N increases!"
   ]
  },
  {
   "cell_type": "code",
   "execution_count": null,
   "metadata": {
    "id": "mitosLJ0l_vc"
   },
   "outputs": [],
   "source": [
    "end=25\n",
    "mean_1=np.mean(data_office[:end])\n",
    "se_1=np.std(data_office[:end])/np.sqrt(len(data_office[:end]))\n",
    "print(mean_1,'+-',se_1)\n",
    "\n",
    "end=100\n",
    "mean_2=np.mean(data_office[:end])\n",
    "se_2=np.std(data_office[:end])/np.sqrt(len(data_office[:end]))\n",
    "print(mean_2,'+-',se_2)\n",
    "\n",
    "end=200\n",
    "mean_3=np.mean(data_office[:end])\n",
    "se_3=np.std(data_office[:end])/np.sqrt(len(data_office[:end]))\n",
    "print(mean_3,'+-',se_3)"
   ]
  },
  {
   "cell_type": "markdown",
   "metadata": {
    "id": "4Y8XZF2AhzOd"
   },
   "source": [
    "To visualize this, run the below code to plot the mean for each subset (with error bars) on our histogram."
   ]
  },
  {
   "cell_type": "code",
   "execution_count": null,
   "metadata": {
    "id": "V_4v4OpQmMtN"
   },
   "outputs": [],
   "source": [
    "fig,ax=plt.subplots()\n",
    "_,bins,_=ax.hist(data_office[:200],30,alpha=0.5) #histogram of all 200 points\n",
    "ax.hist(data_office[:100],bins,alpha=0.5) #histogram of the first 100 points\n",
    "ax.hist(data_office[:25],bins,alpha=0.5) #histogram of the first 25 points\n",
    "\n",
    "plt.errorbar([mean_1,mean_2,mean_3],[3,6,10],xerr=[se_1,se_2,se_3],fmt='o',capsize=5)\n",
    "\n",
    "x=np.linspace(-50,-40,200)\n",
    "ax2=ax.twinx()\n",
    "ax2.plot(x,(1/np.sqrt(2*np.pi*std_office**2))*np.exp(-0.5*(x-mean_office)**2/std_office**2))\n",
    "\n"
   ]
  },
  {
   "cell_type": "markdown",
   "metadata": {
    "id": "Ge2C6G2Ce2Pl"
   },
   "source": [
    "The standard error has a statistical interpretation. If I did the same experiment 100 times, I would expect my measured mean $\\bar{x}$ to fall within one standard error about 68 times, and within two standard errors about 95 times. \n",
    "\n",
    "It turns out that the mean value of any random variable will *also* follow a Gaussian distribution. This is suprising, but makes sense - after all, the mean is calculated using a sum, and the sum of random variables follows a Gaussian. The width of this Gaussian distribution is the standard error of the mean!\n",
    "\n",
    "Let's see this for ourselves. The below code divides the office data into bins of $N$ points, and then takes the average of each bin. For instance, if $N = 4$, then the code will average find the average of the first, second, third and fourth data points, then the average of fifth, sixth, seven, and eighth data points, and so on. The code gives us a list of averages: we can then plot a histogram of this list of mean values.\n",
    "\n",
    "<font color = 'red'>Try running the below code for a few values of N - watch how the width of the histogram of the means changes! (Here we've also plotted the expected Gaussian distrubtion for the means - the width of distribution of mean values is found from the standard error in the mean.)"
   ]
  },
  {
   "cell_type": "code",
   "execution_count": null,
   "metadata": {
    "id": "UBeSFHFHnEFh"
   },
   "outputs": [],
   "source": [
    "#divide data_office intto groups of N data points, and then return the average of each group\n",
    "from scipy import stats\n",
    "N = 4\n",
    "data_office_means = stats.binned_statistic(np.arange(len(data_office)), data_office, bins=np.arange(0, len(data_office),N))\n",
    "\n",
    "#now, plot a histogram of the mean values\n",
    "fig,ax=plt.subplots()\n",
    "\n",
    "_, bins, _ = ax.hist(data_office, density=True, bins=30, alpha = 0.5, label = 'raw data')\n",
    "ax.hist(data_office_means.statistic, density=True, bins=bins, alpha=0.5, label = 'averaging %i points'%N)\n",
    "ax.set_xlabel('Sound pressure level (dB)')\n",
    "ax.set_ylabel('distribution amplitude') #note that since our raw data and our list of means have a different number of points, we need to normalize our histogram\n",
    "ax.legend()\n",
    "\n",
    "ax.plot(x,(1/np.sqrt(2*np.pi*(std_office)**2))*np.exp(-0.5*(x-mean_office)**2/(std_office)**2), color='blue')\n",
    "ax.plot(x,(1/np.sqrt(2*np.pi*(std_office/np.sqrt(N))**2))*np.exp(-0.5*(x-mean_office)**2/(std_office/np.sqrt(N))**2), color = 'orange') #plot the expected Gaussian with width given by the standard error in the mean"
   ]
  },
  {
   "cell_type": "markdown",
   "metadata": {
    "id": "5Lq9iy_NdWHR"
   },
   "source": [
    "# How to submit\n",
    "\n",
    "Rather than uploading a PDF to Gradescope, this week you'll upload your Python notebook directly.\n",
    "\n",
    "- Go to `File` $\\rightarrow$ `Download` $\\rightarrow$ `Download .ipynb` \n",
    "- Find the **Pset 3 Lab Q** assignment on Gradescope and upload the .ipynb\n",
    "- You can check your submission by clicking the ```Code``` button"
   ]
  },
  {
   "cell_type": "code",
   "execution_count": null,
   "metadata": {
    "id": "A5Had4MydVg4"
   },
   "outputs": [],
   "source": []
  }
 ],
 "metadata": {
  "colab": {
   "collapsed_sections": [],
   "provenance": []
  },
  "kernelspec": {
   "display_name": "Python 3",
   "language": "python",
   "name": "python3"
  },
  "language_info": {
   "codemirror_mode": {
    "name": "ipython",
    "version": 3
   },
   "file_extension": ".py",
   "mimetype": "text/x-python",
   "name": "python",
   "nbconvert_exporter": "python",
   "pygments_lexer": "ipython3",
   "version": "3.8.8"
  }
 },
 "nbformat": 4,
 "nbformat_minor": 1
}
